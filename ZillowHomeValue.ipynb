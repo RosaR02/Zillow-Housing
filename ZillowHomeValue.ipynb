{
 "cells": [
  {
   "cell_type": "markdown",
   "id": "212b776b",
   "metadata": {},
   "source": [
    "## Preparing Time Series from Wide-Form data\n",
    "\n",
    "* First, you will prepare the dataset for time series analysis:\n",
    "    * Load in the Zillow Home Value Index dataframe.\n",
    "        * Note: it is a large file and may take a minute to load.\n",
    "* Filter the 4 largest cities into a new dataframe.\n",
    "    * Tip: the \"SizeRank\" column has already ranked the cities by size. The larger the city, the smaller the rank value.\n",
    "    * Therefore the 4 largest cities would have rank values of [0,1,2,3]\n",
    "* Melt the data to long-form and prepare it for time series analysis.\n",
    "    * Convert the melted dates into datetime datatype.\n",
    "    * Make the datetime column the index.\n",
    "* Resample the dataframe as monthly frequency, grouped by City."
   ]
  },
  {
   "cell_type": "code",
   "execution_count": 232,
   "id": "b9c6a80e",
   "metadata": {},
   "outputs": [],
   "source": [
    "import pandas as pd\n",
    "import numpy as np\n",
    "import matplotlib as mpl\n",
    "import matplotlib.pyplot as plt\n",
    "import seaborn as sns\n",
    "import os\n",
    "# set random seed\n",
    "SEED = 321\n",
    "np.random.seed(SEED)"
   ]
  },
  {
   "cell_type": "code",
   "execution_count": 233,
   "id": "21661cca",
   "metadata": {},
   "outputs": [
    {
     "name": "stdout",
     "output_type": "stream",
     "text": [
      "<class 'pandas.core.frame.DataFrame'>\n",
      "RangeIndex: 22467 entries, 0 to 22466\n",
      "Columns: 281 entries, RegionID to 2022-09-30\n",
      "dtypes: float64(273), int64(2), object(6)\n",
      "memory usage: 48.2+ MB\n"
     ]
    },
    {
     "data": {
      "text/html": [
       "<div>\n",
       "<style scoped>\n",
       "    .dataframe tbody tr th:only-of-type {\n",
       "        vertical-align: middle;\n",
       "    }\n",
       "\n",
       "    .dataframe tbody tr th {\n",
       "        vertical-align: top;\n",
       "    }\n",
       "\n",
       "    .dataframe thead th {\n",
       "        text-align: right;\n",
       "    }\n",
       "</style>\n",
       "<table border=\"1\" class=\"dataframe\">\n",
       "  <thead>\n",
       "    <tr style=\"text-align: right;\">\n",
       "      <th></th>\n",
       "      <th>RegionID</th>\n",
       "      <th>SizeRank</th>\n",
       "      <th>RegionName</th>\n",
       "      <th>RegionType</th>\n",
       "      <th>StateName</th>\n",
       "      <th>State</th>\n",
       "      <th>Metro</th>\n",
       "      <th>CountyName</th>\n",
       "      <th>2000-01-31</th>\n",
       "      <th>2000-02-29</th>\n",
       "      <th>...</th>\n",
       "      <th>2021-12-31</th>\n",
       "      <th>2022-01-31</th>\n",
       "      <th>2022-02-28</th>\n",
       "      <th>2022-03-31</th>\n",
       "      <th>2022-04-30</th>\n",
       "      <th>2022-05-31</th>\n",
       "      <th>2022-06-30</th>\n",
       "      <th>2022-07-31</th>\n",
       "      <th>2022-08-31</th>\n",
       "      <th>2022-09-30</th>\n",
       "    </tr>\n",
       "  </thead>\n",
       "  <tbody>\n",
       "    <tr>\n",
       "      <th>0</th>\n",
       "      <td>6181</td>\n",
       "      <td>0</td>\n",
       "      <td>New York</td>\n",
       "      <td>city</td>\n",
       "      <td>NY</td>\n",
       "      <td>NY</td>\n",
       "      <td>New York-Newark-Jersey City, NY-NJ-PA</td>\n",
       "      <td>Queens County</td>\n",
       "      <td>253690.0</td>\n",
       "      <td>255517.0</td>\n",
       "      <td>...</td>\n",
       "      <td>741586.0</td>\n",
       "      <td>745686.0</td>\n",
       "      <td>750578.0</td>\n",
       "      <td>756734.0</td>\n",
       "      <td>762321.0</td>\n",
       "      <td>768797.0</td>\n",
       "      <td>773944.0</td>\n",
       "      <td>777692.0</td>\n",
       "      <td>779960.0</td>\n",
       "      <td>781622.0</td>\n",
       "    </tr>\n",
       "    <tr>\n",
       "      <th>1</th>\n",
       "      <td>12447</td>\n",
       "      <td>1</td>\n",
       "      <td>Los Angeles</td>\n",
       "      <td>city</td>\n",
       "      <td>CA</td>\n",
       "      <td>CA</td>\n",
       "      <td>Los Angeles-Long Beach-Anaheim, CA</td>\n",
       "      <td>Los Angeles County</td>\n",
       "      <td>234181.0</td>\n",
       "      <td>234401.0</td>\n",
       "      <td>...</td>\n",
       "      <td>924019.0</td>\n",
       "      <td>928991.0</td>\n",
       "      <td>937936.0</td>\n",
       "      <td>953874.0</td>\n",
       "      <td>973168.0</td>\n",
       "      <td>990391.0</td>\n",
       "      <td>992337.0</td>\n",
       "      <td>992630.0</td>\n",
       "      <td>978196.0</td>\n",
       "      <td>966595.0</td>\n",
       "    </tr>\n",
       "    <tr>\n",
       "      <th>2</th>\n",
       "      <td>39051</td>\n",
       "      <td>2</td>\n",
       "      <td>Houston</td>\n",
       "      <td>city</td>\n",
       "      <td>TX</td>\n",
       "      <td>TX</td>\n",
       "      <td>Houston-The Woodlands-Sugar Land, TX</td>\n",
       "      <td>Harris County</td>\n",
       "      <td>109068.0</td>\n",
       "      <td>109079.0</td>\n",
       "      <td>...</td>\n",
       "      <td>245783.0</td>\n",
       "      <td>248718.0</td>\n",
       "      <td>252080.0</td>\n",
       "      <td>256435.0</td>\n",
       "      <td>261101.0</td>\n",
       "      <td>265558.0</td>\n",
       "      <td>268901.0</td>\n",
       "      <td>271059.0</td>\n",
       "      <td>272400.0</td>\n",
       "      <td>272639.0</td>\n",
       "    </tr>\n",
       "    <tr>\n",
       "      <th>3</th>\n",
       "      <td>17426</td>\n",
       "      <td>3</td>\n",
       "      <td>Chicago</td>\n",
       "      <td>city</td>\n",
       "      <td>IL</td>\n",
       "      <td>IL</td>\n",
       "      <td>Chicago-Naperville-Elgin, IL-IN-WI</td>\n",
       "      <td>Cook County</td>\n",
       "      <td>166139.0</td>\n",
       "      <td>166536.0</td>\n",
       "      <td>...</td>\n",
       "      <td>302821.0</td>\n",
       "      <td>305104.0</td>\n",
       "      <td>306404.0</td>\n",
       "      <td>308303.0</td>\n",
       "      <td>309649.0</td>\n",
       "      <td>312487.0</td>\n",
       "      <td>314663.0</td>\n",
       "      <td>315910.0</td>\n",
       "      <td>315587.0</td>\n",
       "      <td>315429.0</td>\n",
       "    </tr>\n",
       "    <tr>\n",
       "      <th>4</th>\n",
       "      <td>6915</td>\n",
       "      <td>4</td>\n",
       "      <td>San Antonio</td>\n",
       "      <td>city</td>\n",
       "      <td>TX</td>\n",
       "      <td>TX</td>\n",
       "      <td>San Antonio-New Braunfels, TX</td>\n",
       "      <td>Bexar County</td>\n",
       "      <td>114794.0</td>\n",
       "      <td>114975.0</td>\n",
       "      <td>...</td>\n",
       "      <td>269323.0</td>\n",
       "      <td>274032.0</td>\n",
       "      <td>278464.0</td>\n",
       "      <td>284127.0</td>\n",
       "      <td>289739.0</td>\n",
       "      <td>294776.0</td>\n",
       "      <td>297727.0</td>\n",
       "      <td>298796.0</td>\n",
       "      <td>299124.0</td>\n",
       "      <td>298951.0</td>\n",
       "    </tr>\n",
       "  </tbody>\n",
       "</table>\n",
       "<p>5 rows × 281 columns</p>\n",
       "</div>"
      ],
      "text/plain": [
       "   RegionID  SizeRank   RegionName RegionType StateName State  \\\n",
       "0      6181         0     New York       city        NY    NY   \n",
       "1     12447         1  Los Angeles       city        CA    CA   \n",
       "2     39051         2      Houston       city        TX    TX   \n",
       "3     17426         3      Chicago       city        IL    IL   \n",
       "4      6915         4  San Antonio       city        TX    TX   \n",
       "\n",
       "                                   Metro          CountyName  2000-01-31  \\\n",
       "0  New York-Newark-Jersey City, NY-NJ-PA       Queens County    253690.0   \n",
       "1     Los Angeles-Long Beach-Anaheim, CA  Los Angeles County    234181.0   \n",
       "2   Houston-The Woodlands-Sugar Land, TX       Harris County    109068.0   \n",
       "3     Chicago-Naperville-Elgin, IL-IN-WI         Cook County    166139.0   \n",
       "4          San Antonio-New Braunfels, TX        Bexar County    114794.0   \n",
       "\n",
       "   2000-02-29  ...  2021-12-31  2022-01-31  2022-02-28  2022-03-31  \\\n",
       "0    255517.0  ...    741586.0    745686.0    750578.0    756734.0   \n",
       "1    234401.0  ...    924019.0    928991.0    937936.0    953874.0   \n",
       "2    109079.0  ...    245783.0    248718.0    252080.0    256435.0   \n",
       "3    166536.0  ...    302821.0    305104.0    306404.0    308303.0   \n",
       "4    114975.0  ...    269323.0    274032.0    278464.0    284127.0   \n",
       "\n",
       "   2022-04-30  2022-05-31  2022-06-30  2022-07-31  2022-08-31  2022-09-30  \n",
       "0    762321.0    768797.0    773944.0    777692.0    779960.0    781622.0  \n",
       "1    973168.0    990391.0    992337.0    992630.0    978196.0    966595.0  \n",
       "2    261101.0    265558.0    268901.0    271059.0    272400.0    272639.0  \n",
       "3    309649.0    312487.0    314663.0    315910.0    315587.0    315429.0  \n",
       "4    289739.0    294776.0    297727.0    298796.0    299124.0    298951.0  \n",
       "\n",
       "[5 rows x 281 columns]"
      ]
     },
     "execution_count": 233,
     "metadata": {},
     "output_type": "execute_result"
    }
   ],
   "source": [
    "url = \"https://docs.google.com/spreadsheets/d/e/2PACX-1vQN3Ksa9szQuO4G1-msXWAp17KtVHQCBnuEieu_auu1wSiBf3-krHusIx5VBMkihxj-KZLBosDIGEyR/pub?output=csv\"\n",
    "df = pd.read_csv(url)\n",
    "df.info()\n",
    "df.head()"
   ]
  },
  {
   "cell_type": "markdown",
   "id": "bf7bb12d",
   "metadata": {},
   "source": [
    "## Filter the 4 largest cities into a new dataframe"
   ]
  },
  {
   "cell_type": "code",
   "execution_count": 234,
   "id": "5aabde02",
   "metadata": {},
   "outputs": [
    {
     "data": {
      "text/html": [
       "<div>\n",
       "<style scoped>\n",
       "    .dataframe tbody tr th:only-of-type {\n",
       "        vertical-align: middle;\n",
       "    }\n",
       "\n",
       "    .dataframe tbody tr th {\n",
       "        vertical-align: top;\n",
       "    }\n",
       "\n",
       "    .dataframe thead th {\n",
       "        text-align: right;\n",
       "    }\n",
       "</style>\n",
       "<table border=\"1\" class=\"dataframe\">\n",
       "  <thead>\n",
       "    <tr style=\"text-align: right;\">\n",
       "      <th></th>\n",
       "      <th>RegionID</th>\n",
       "      <th>SizeRank</th>\n",
       "      <th>RegionName</th>\n",
       "      <th>RegionType</th>\n",
       "      <th>StateName</th>\n",
       "      <th>State</th>\n",
       "      <th>Metro</th>\n",
       "      <th>CountyName</th>\n",
       "      <th>2000-01-31</th>\n",
       "      <th>2000-02-29</th>\n",
       "      <th>...</th>\n",
       "      <th>2021-12-31</th>\n",
       "      <th>2022-01-31</th>\n",
       "      <th>2022-02-28</th>\n",
       "      <th>2022-03-31</th>\n",
       "      <th>2022-04-30</th>\n",
       "      <th>2022-05-31</th>\n",
       "      <th>2022-06-30</th>\n",
       "      <th>2022-07-31</th>\n",
       "      <th>2022-08-31</th>\n",
       "      <th>2022-09-30</th>\n",
       "    </tr>\n",
       "  </thead>\n",
       "  <tbody>\n",
       "    <tr>\n",
       "      <th>0</th>\n",
       "      <td>6181</td>\n",
       "      <td>0</td>\n",
       "      <td>New York</td>\n",
       "      <td>city</td>\n",
       "      <td>NY</td>\n",
       "      <td>NY</td>\n",
       "      <td>New York-Newark-Jersey City, NY-NJ-PA</td>\n",
       "      <td>Queens County</td>\n",
       "      <td>253690.0</td>\n",
       "      <td>255517.0</td>\n",
       "      <td>...</td>\n",
       "      <td>741586.0</td>\n",
       "      <td>745686.0</td>\n",
       "      <td>750578.0</td>\n",
       "      <td>756734.0</td>\n",
       "      <td>762321.0</td>\n",
       "      <td>768797.0</td>\n",
       "      <td>773944.0</td>\n",
       "      <td>777692.0</td>\n",
       "      <td>779960.0</td>\n",
       "      <td>781622.0</td>\n",
       "    </tr>\n",
       "    <tr>\n",
       "      <th>1</th>\n",
       "      <td>12447</td>\n",
       "      <td>1</td>\n",
       "      <td>Los Angeles</td>\n",
       "      <td>city</td>\n",
       "      <td>CA</td>\n",
       "      <td>CA</td>\n",
       "      <td>Los Angeles-Long Beach-Anaheim, CA</td>\n",
       "      <td>Los Angeles County</td>\n",
       "      <td>234181.0</td>\n",
       "      <td>234401.0</td>\n",
       "      <td>...</td>\n",
       "      <td>924019.0</td>\n",
       "      <td>928991.0</td>\n",
       "      <td>937936.0</td>\n",
       "      <td>953874.0</td>\n",
       "      <td>973168.0</td>\n",
       "      <td>990391.0</td>\n",
       "      <td>992337.0</td>\n",
       "      <td>992630.0</td>\n",
       "      <td>978196.0</td>\n",
       "      <td>966595.0</td>\n",
       "    </tr>\n",
       "    <tr>\n",
       "      <th>2</th>\n",
       "      <td>39051</td>\n",
       "      <td>2</td>\n",
       "      <td>Houston</td>\n",
       "      <td>city</td>\n",
       "      <td>TX</td>\n",
       "      <td>TX</td>\n",
       "      <td>Houston-The Woodlands-Sugar Land, TX</td>\n",
       "      <td>Harris County</td>\n",
       "      <td>109068.0</td>\n",
       "      <td>109079.0</td>\n",
       "      <td>...</td>\n",
       "      <td>245783.0</td>\n",
       "      <td>248718.0</td>\n",
       "      <td>252080.0</td>\n",
       "      <td>256435.0</td>\n",
       "      <td>261101.0</td>\n",
       "      <td>265558.0</td>\n",
       "      <td>268901.0</td>\n",
       "      <td>271059.0</td>\n",
       "      <td>272400.0</td>\n",
       "      <td>272639.0</td>\n",
       "    </tr>\n",
       "    <tr>\n",
       "      <th>3</th>\n",
       "      <td>17426</td>\n",
       "      <td>3</td>\n",
       "      <td>Chicago</td>\n",
       "      <td>city</td>\n",
       "      <td>IL</td>\n",
       "      <td>IL</td>\n",
       "      <td>Chicago-Naperville-Elgin, IL-IN-WI</td>\n",
       "      <td>Cook County</td>\n",
       "      <td>166139.0</td>\n",
       "      <td>166536.0</td>\n",
       "      <td>...</td>\n",
       "      <td>302821.0</td>\n",
       "      <td>305104.0</td>\n",
       "      <td>306404.0</td>\n",
       "      <td>308303.0</td>\n",
       "      <td>309649.0</td>\n",
       "      <td>312487.0</td>\n",
       "      <td>314663.0</td>\n",
       "      <td>315910.0</td>\n",
       "      <td>315587.0</td>\n",
       "      <td>315429.0</td>\n",
       "    </tr>\n",
       "  </tbody>\n",
       "</table>\n",
       "<p>4 rows × 281 columns</p>\n",
       "</div>"
      ],
      "text/plain": [
       "   RegionID  SizeRank   RegionName RegionType StateName State  \\\n",
       "0      6181         0     New York       city        NY    NY   \n",
       "1     12447         1  Los Angeles       city        CA    CA   \n",
       "2     39051         2      Houston       city        TX    TX   \n",
       "3     17426         3      Chicago       city        IL    IL   \n",
       "\n",
       "                                   Metro          CountyName  2000-01-31  \\\n",
       "0  New York-Newark-Jersey City, NY-NJ-PA       Queens County    253690.0   \n",
       "1     Los Angeles-Long Beach-Anaheim, CA  Los Angeles County    234181.0   \n",
       "2   Houston-The Woodlands-Sugar Land, TX       Harris County    109068.0   \n",
       "3     Chicago-Naperville-Elgin, IL-IN-WI         Cook County    166139.0   \n",
       "\n",
       "   2000-02-29  ...  2021-12-31  2022-01-31  2022-02-28  2022-03-31  \\\n",
       "0    255517.0  ...    741586.0    745686.0    750578.0    756734.0   \n",
       "1    234401.0  ...    924019.0    928991.0    937936.0    953874.0   \n",
       "2    109079.0  ...    245783.0    248718.0    252080.0    256435.0   \n",
       "3    166536.0  ...    302821.0    305104.0    306404.0    308303.0   \n",
       "\n",
       "   2022-04-30  2022-05-31  2022-06-30  2022-07-31  2022-08-31  2022-09-30  \n",
       "0    762321.0    768797.0    773944.0    777692.0    779960.0    781622.0  \n",
       "1    973168.0    990391.0    992337.0    992630.0    978196.0    966595.0  \n",
       "2    261101.0    265558.0    268901.0    271059.0    272400.0    272639.0  \n",
       "3    309649.0    312487.0    314663.0    315910.0    315587.0    315429.0  \n",
       "\n",
       "[4 rows x 281 columns]"
      ]
     },
     "execution_count": 234,
     "metadata": {},
     "output_type": "execute_result"
    }
   ],
   "source": [
    "new_df = df[df['SizeRank'] <= 3].copy()\n",
    "new_df.head()"
   ]
  },
  {
   "cell_type": "code",
   "execution_count": 235,
   "id": "9e348fee",
   "metadata": {},
   "outputs": [
    {
     "data": {
      "text/plain": [
       "Index(['RegionID', 'SizeRank', 'RegionName', 'RegionType', 'StateName',\n",
       "       'State', 'Metro', 'CountyName', '2000-01-31', '2000-02-29',\n",
       "       ...\n",
       "       '2021-12-31', '2022-01-31', '2022-02-28', '2022-03-31', '2022-04-30',\n",
       "       '2022-05-31', '2022-06-30', '2022-07-31', '2022-08-31', '2022-09-30'],\n",
       "      dtype='object', length=281)"
      ]
     },
     "execution_count": 235,
     "metadata": {},
     "output_type": "execute_result"
    }
   ],
   "source": [
    "# existing columns\n",
    "new_df.columns"
   ]
  },
  {
   "cell_type": "code",
   "execution_count": 236,
   "id": "c7e20382",
   "metadata": {},
   "outputs": [
    {
     "data": {
      "text/plain": [
       "Index(['RegionID', 'SizeRank', 'RegionName', 'RegionType', 'StateName',\n",
       "       'State', 'Metro', 'CountyName'],\n",
       "      dtype='object')"
      ]
     },
     "execution_count": 236,
     "metadata": {},
     "output_type": "execute_result"
    }
   ],
   "source": [
    "## First 8 columns are id columns\n",
    "id_vars = new_df.columns[:8]\n",
    "id_vars"
   ]
  },
  {
   "cell_type": "code",
   "execution_count": 237,
   "id": "656a0293",
   "metadata": {},
   "outputs": [
    {
     "data": {
      "text/html": [
       "<div>\n",
       "<style scoped>\n",
       "    .dataframe tbody tr th:only-of-type {\n",
       "        vertical-align: middle;\n",
       "    }\n",
       "\n",
       "    .dataframe tbody tr th {\n",
       "        vertical-align: top;\n",
       "    }\n",
       "\n",
       "    .dataframe thead th {\n",
       "        text-align: right;\n",
       "    }\n",
       "</style>\n",
       "<table border=\"1\" class=\"dataframe\">\n",
       "  <thead>\n",
       "    <tr style=\"text-align: right;\">\n",
       "      <th></th>\n",
       "      <th>RegionID</th>\n",
       "      <th>SizeRank</th>\n",
       "      <th>RegionName</th>\n",
       "      <th>RegionType</th>\n",
       "      <th>StateName</th>\n",
       "      <th>State</th>\n",
       "      <th>Metro</th>\n",
       "      <th>CountyName</th>\n",
       "      <th>Date</th>\n",
       "      <th>HomeValue</th>\n",
       "    </tr>\n",
       "  </thead>\n",
       "  <tbody>\n",
       "    <tr>\n",
       "      <th>0</th>\n",
       "      <td>6181</td>\n",
       "      <td>0</td>\n",
       "      <td>New York</td>\n",
       "      <td>city</td>\n",
       "      <td>NY</td>\n",
       "      <td>NY</td>\n",
       "      <td>New York-Newark-Jersey City, NY-NJ-PA</td>\n",
       "      <td>Queens County</td>\n",
       "      <td>2000-01-31</td>\n",
       "      <td>253690.0</td>\n",
       "    </tr>\n",
       "    <tr>\n",
       "      <th>1</th>\n",
       "      <td>12447</td>\n",
       "      <td>1</td>\n",
       "      <td>Los Angeles</td>\n",
       "      <td>city</td>\n",
       "      <td>CA</td>\n",
       "      <td>CA</td>\n",
       "      <td>Los Angeles-Long Beach-Anaheim, CA</td>\n",
       "      <td>Los Angeles County</td>\n",
       "      <td>2000-01-31</td>\n",
       "      <td>234181.0</td>\n",
       "    </tr>\n",
       "    <tr>\n",
       "      <th>2</th>\n",
       "      <td>39051</td>\n",
       "      <td>2</td>\n",
       "      <td>Houston</td>\n",
       "      <td>city</td>\n",
       "      <td>TX</td>\n",
       "      <td>TX</td>\n",
       "      <td>Houston-The Woodlands-Sugar Land, TX</td>\n",
       "      <td>Harris County</td>\n",
       "      <td>2000-01-31</td>\n",
       "      <td>109068.0</td>\n",
       "    </tr>\n",
       "    <tr>\n",
       "      <th>3</th>\n",
       "      <td>17426</td>\n",
       "      <td>3</td>\n",
       "      <td>Chicago</td>\n",
       "      <td>city</td>\n",
       "      <td>IL</td>\n",
       "      <td>IL</td>\n",
       "      <td>Chicago-Naperville-Elgin, IL-IN-WI</td>\n",
       "      <td>Cook County</td>\n",
       "      <td>2000-01-31</td>\n",
       "      <td>166139.0</td>\n",
       "    </tr>\n",
       "    <tr>\n",
       "      <th>4</th>\n",
       "      <td>6181</td>\n",
       "      <td>0</td>\n",
       "      <td>New York</td>\n",
       "      <td>city</td>\n",
       "      <td>NY</td>\n",
       "      <td>NY</td>\n",
       "      <td>New York-Newark-Jersey City, NY-NJ-PA</td>\n",
       "      <td>Queens County</td>\n",
       "      <td>2000-02-29</td>\n",
       "      <td>255517.0</td>\n",
       "    </tr>\n",
       "    <tr>\n",
       "      <th>...</th>\n",
       "      <td>...</td>\n",
       "      <td>...</td>\n",
       "      <td>...</td>\n",
       "      <td>...</td>\n",
       "      <td>...</td>\n",
       "      <td>...</td>\n",
       "      <td>...</td>\n",
       "      <td>...</td>\n",
       "      <td>...</td>\n",
       "      <td>...</td>\n",
       "    </tr>\n",
       "    <tr>\n",
       "      <th>1087</th>\n",
       "      <td>17426</td>\n",
       "      <td>3</td>\n",
       "      <td>Chicago</td>\n",
       "      <td>city</td>\n",
       "      <td>IL</td>\n",
       "      <td>IL</td>\n",
       "      <td>Chicago-Naperville-Elgin, IL-IN-WI</td>\n",
       "      <td>Cook County</td>\n",
       "      <td>2022-08-31</td>\n",
       "      <td>315587.0</td>\n",
       "    </tr>\n",
       "    <tr>\n",
       "      <th>1088</th>\n",
       "      <td>6181</td>\n",
       "      <td>0</td>\n",
       "      <td>New York</td>\n",
       "      <td>city</td>\n",
       "      <td>NY</td>\n",
       "      <td>NY</td>\n",
       "      <td>New York-Newark-Jersey City, NY-NJ-PA</td>\n",
       "      <td>Queens County</td>\n",
       "      <td>2022-09-30</td>\n",
       "      <td>781622.0</td>\n",
       "    </tr>\n",
       "    <tr>\n",
       "      <th>1089</th>\n",
       "      <td>12447</td>\n",
       "      <td>1</td>\n",
       "      <td>Los Angeles</td>\n",
       "      <td>city</td>\n",
       "      <td>CA</td>\n",
       "      <td>CA</td>\n",
       "      <td>Los Angeles-Long Beach-Anaheim, CA</td>\n",
       "      <td>Los Angeles County</td>\n",
       "      <td>2022-09-30</td>\n",
       "      <td>966595.0</td>\n",
       "    </tr>\n",
       "    <tr>\n",
       "      <th>1090</th>\n",
       "      <td>39051</td>\n",
       "      <td>2</td>\n",
       "      <td>Houston</td>\n",
       "      <td>city</td>\n",
       "      <td>TX</td>\n",
       "      <td>TX</td>\n",
       "      <td>Houston-The Woodlands-Sugar Land, TX</td>\n",
       "      <td>Harris County</td>\n",
       "      <td>2022-09-30</td>\n",
       "      <td>272639.0</td>\n",
       "    </tr>\n",
       "    <tr>\n",
       "      <th>1091</th>\n",
       "      <td>17426</td>\n",
       "      <td>3</td>\n",
       "      <td>Chicago</td>\n",
       "      <td>city</td>\n",
       "      <td>IL</td>\n",
       "      <td>IL</td>\n",
       "      <td>Chicago-Naperville-Elgin, IL-IN-WI</td>\n",
       "      <td>Cook County</td>\n",
       "      <td>2022-09-30</td>\n",
       "      <td>315429.0</td>\n",
       "    </tr>\n",
       "  </tbody>\n",
       "</table>\n",
       "<p>1092 rows × 10 columns</p>\n",
       "</div>"
      ],
      "text/plain": [
       "      RegionID  SizeRank   RegionName RegionType StateName State  \\\n",
       "0         6181         0     New York       city        NY    NY   \n",
       "1        12447         1  Los Angeles       city        CA    CA   \n",
       "2        39051         2      Houston       city        TX    TX   \n",
       "3        17426         3      Chicago       city        IL    IL   \n",
       "4         6181         0     New York       city        NY    NY   \n",
       "...        ...       ...          ...        ...       ...   ...   \n",
       "1087     17426         3      Chicago       city        IL    IL   \n",
       "1088      6181         0     New York       city        NY    NY   \n",
       "1089     12447         1  Los Angeles       city        CA    CA   \n",
       "1090     39051         2      Houston       city        TX    TX   \n",
       "1091     17426         3      Chicago       city        IL    IL   \n",
       "\n",
       "                                      Metro          CountyName        Date  \\\n",
       "0     New York-Newark-Jersey City, NY-NJ-PA       Queens County  2000-01-31   \n",
       "1        Los Angeles-Long Beach-Anaheim, CA  Los Angeles County  2000-01-31   \n",
       "2      Houston-The Woodlands-Sugar Land, TX       Harris County  2000-01-31   \n",
       "3        Chicago-Naperville-Elgin, IL-IN-WI         Cook County  2000-01-31   \n",
       "4     New York-Newark-Jersey City, NY-NJ-PA       Queens County  2000-02-29   \n",
       "...                                     ...                 ...         ...   \n",
       "1087     Chicago-Naperville-Elgin, IL-IN-WI         Cook County  2022-08-31   \n",
       "1088  New York-Newark-Jersey City, NY-NJ-PA       Queens County  2022-09-30   \n",
       "1089     Los Angeles-Long Beach-Anaheim, CA  Los Angeles County  2022-09-30   \n",
       "1090   Houston-The Woodlands-Sugar Land, TX       Harris County  2022-09-30   \n",
       "1091     Chicago-Naperville-Elgin, IL-IN-WI         Cook County  2022-09-30   \n",
       "\n",
       "      HomeValue  \n",
       "0      253690.0  \n",
       "1      234181.0  \n",
       "2      109068.0  \n",
       "3      166139.0  \n",
       "4      255517.0  \n",
       "...         ...  \n",
       "1087   315587.0  \n",
       "1088   781622.0  \n",
       "1089   966595.0  \n",
       "1090   272639.0  \n",
       "1091   315429.0  \n",
       "\n",
       "[1092 rows x 10 columns]"
      ]
     },
     "execution_count": 237,
     "metadata": {},
     "output_type": "execute_result"
    }
   ],
   "source": [
    "## Melt the crypto data \n",
    "long_df = pd.melt(new_df, id_vars=id_vars, value_name='HomeValue', var_name='Date')\n",
    "long_df"
   ]
  },
  {
   "cell_type": "markdown",
   "id": "a8db06f0",
   "metadata": {},
   "source": [
    "## Convert Datetime column to datetime type with pd.to_datetime\n",
    "* Datetime objects have a .strftime() method (string-format-time)"
   ]
  },
  {
   "cell_type": "code",
   "execution_count": 238,
   "id": "3e74fea1",
   "metadata": {},
   "outputs": [
    {
     "data": {
      "text/plain": [
       "'2000-01-31'"
      ]
     },
     "execution_count": 238,
     "metadata": {},
     "output_type": "execute_result"
    }
   ],
   "source": [
    "## Compare to dates in dataframe\n",
    "long_df['Date'][0]"
   ]
  },
  {
   "cell_type": "code",
   "execution_count": 239,
   "id": "22df99ed",
   "metadata": {},
   "outputs": [
    {
     "data": {
      "text/plain": [
       "'2023-09-29'"
      ]
     },
     "execution_count": 239,
     "metadata": {},
     "output_type": "execute_result"
    }
   ],
   "source": [
    "## Creating/testing our time format\n",
    "import datetime\n",
    "today_datetime = datetime.datetime.today()\n",
    "\n",
    "fmt = \"%Y-%m-%d\"\n",
    "today_datetime.strftime(fmt)"
   ]
  },
  {
   "cell_type": "code",
   "execution_count": 240,
   "id": "6fe6672d",
   "metadata": {},
   "outputs": [
    {
     "name": "stdout",
     "output_type": "stream",
     "text": [
      "<class 'pandas.core.frame.DataFrame'>\n",
      "RangeIndex: 1092 entries, 0 to 1091\n",
      "Data columns (total 10 columns):\n",
      " #   Column      Non-Null Count  Dtype         \n",
      "---  ------      --------------  -----         \n",
      " 0   RegionID    1092 non-null   int64         \n",
      " 1   SizeRank    1092 non-null   int64         \n",
      " 2   RegionName  1092 non-null   object        \n",
      " 3   RegionType  1092 non-null   object        \n",
      " 4   StateName   1092 non-null   object        \n",
      " 5   State       1092 non-null   object        \n",
      " 6   Metro       1092 non-null   object        \n",
      " 7   CountyName  1092 non-null   object        \n",
      " 8   Date        1092 non-null   datetime64[ns]\n",
      " 9   HomeValue   1087 non-null   float64       \n",
      "dtypes: datetime64[ns](1), float64(1), int64(2), object(6)\n",
      "memory usage: 85.4+ KB\n",
      "CPU times: total: 0 ns\n",
      "Wall time: 17.6 ms\n"
     ]
    }
   ],
   "source": [
    "%%time\n",
    "## Use the fmt to convert datetime type\n",
    "long_df['Date'] = pd.to_datetime(long_df['Date'], format=fmt)\n",
    "long_df.info()"
   ]
  },
  {
   "cell_type": "markdown",
   "id": "f7b332d2",
   "metadata": {},
   "source": [
    "## Set datetime as Index"
   ]
  },
  {
   "cell_type": "code",
   "execution_count": 241,
   "id": "f1fac607",
   "metadata": {},
   "outputs": [
    {
     "data": {
      "text/html": [
       "<div>\n",
       "<style scoped>\n",
       "    .dataframe tbody tr th:only-of-type {\n",
       "        vertical-align: middle;\n",
       "    }\n",
       "\n",
       "    .dataframe tbody tr th {\n",
       "        vertical-align: top;\n",
       "    }\n",
       "\n",
       "    .dataframe thead th {\n",
       "        text-align: right;\n",
       "    }\n",
       "</style>\n",
       "<table border=\"1\" class=\"dataframe\">\n",
       "  <thead>\n",
       "    <tr style=\"text-align: right;\">\n",
       "      <th></th>\n",
       "      <th>RegionID</th>\n",
       "      <th>SizeRank</th>\n",
       "      <th>RegionName</th>\n",
       "      <th>RegionType</th>\n",
       "      <th>StateName</th>\n",
       "      <th>State</th>\n",
       "      <th>Metro</th>\n",
       "      <th>CountyName</th>\n",
       "      <th>HomeValue</th>\n",
       "    </tr>\n",
       "    <tr>\n",
       "      <th>Date</th>\n",
       "      <th></th>\n",
       "      <th></th>\n",
       "      <th></th>\n",
       "      <th></th>\n",
       "      <th></th>\n",
       "      <th></th>\n",
       "      <th></th>\n",
       "      <th></th>\n",
       "      <th></th>\n",
       "    </tr>\n",
       "  </thead>\n",
       "  <tbody>\n",
       "    <tr>\n",
       "      <th>2000-01-31</th>\n",
       "      <td>6181</td>\n",
       "      <td>0</td>\n",
       "      <td>New York</td>\n",
       "      <td>city</td>\n",
       "      <td>NY</td>\n",
       "      <td>NY</td>\n",
       "      <td>New York-Newark-Jersey City, NY-NJ-PA</td>\n",
       "      <td>Queens County</td>\n",
       "      <td>253690.0</td>\n",
       "    </tr>\n",
       "    <tr>\n",
       "      <th>2000-01-31</th>\n",
       "      <td>12447</td>\n",
       "      <td>1</td>\n",
       "      <td>Los Angeles</td>\n",
       "      <td>city</td>\n",
       "      <td>CA</td>\n",
       "      <td>CA</td>\n",
       "      <td>Los Angeles-Long Beach-Anaheim, CA</td>\n",
       "      <td>Los Angeles County</td>\n",
       "      <td>234181.0</td>\n",
       "    </tr>\n",
       "    <tr>\n",
       "      <th>2000-01-31</th>\n",
       "      <td>39051</td>\n",
       "      <td>2</td>\n",
       "      <td>Houston</td>\n",
       "      <td>city</td>\n",
       "      <td>TX</td>\n",
       "      <td>TX</td>\n",
       "      <td>Houston-The Woodlands-Sugar Land, TX</td>\n",
       "      <td>Harris County</td>\n",
       "      <td>109068.0</td>\n",
       "    </tr>\n",
       "    <tr>\n",
       "      <th>2000-01-31</th>\n",
       "      <td>17426</td>\n",
       "      <td>3</td>\n",
       "      <td>Chicago</td>\n",
       "      <td>city</td>\n",
       "      <td>IL</td>\n",
       "      <td>IL</td>\n",
       "      <td>Chicago-Naperville-Elgin, IL-IN-WI</td>\n",
       "      <td>Cook County</td>\n",
       "      <td>166139.0</td>\n",
       "    </tr>\n",
       "    <tr>\n",
       "      <th>2000-02-29</th>\n",
       "      <td>6181</td>\n",
       "      <td>0</td>\n",
       "      <td>New York</td>\n",
       "      <td>city</td>\n",
       "      <td>NY</td>\n",
       "      <td>NY</td>\n",
       "      <td>New York-Newark-Jersey City, NY-NJ-PA</td>\n",
       "      <td>Queens County</td>\n",
       "      <td>255517.0</td>\n",
       "    </tr>\n",
       "    <tr>\n",
       "      <th>...</th>\n",
       "      <td>...</td>\n",
       "      <td>...</td>\n",
       "      <td>...</td>\n",
       "      <td>...</td>\n",
       "      <td>...</td>\n",
       "      <td>...</td>\n",
       "      <td>...</td>\n",
       "      <td>...</td>\n",
       "      <td>...</td>\n",
       "    </tr>\n",
       "    <tr>\n",
       "      <th>2022-08-31</th>\n",
       "      <td>17426</td>\n",
       "      <td>3</td>\n",
       "      <td>Chicago</td>\n",
       "      <td>city</td>\n",
       "      <td>IL</td>\n",
       "      <td>IL</td>\n",
       "      <td>Chicago-Naperville-Elgin, IL-IN-WI</td>\n",
       "      <td>Cook County</td>\n",
       "      <td>315587.0</td>\n",
       "    </tr>\n",
       "    <tr>\n",
       "      <th>2022-09-30</th>\n",
       "      <td>6181</td>\n",
       "      <td>0</td>\n",
       "      <td>New York</td>\n",
       "      <td>city</td>\n",
       "      <td>NY</td>\n",
       "      <td>NY</td>\n",
       "      <td>New York-Newark-Jersey City, NY-NJ-PA</td>\n",
       "      <td>Queens County</td>\n",
       "      <td>781622.0</td>\n",
       "    </tr>\n",
       "    <tr>\n",
       "      <th>2022-09-30</th>\n",
       "      <td>12447</td>\n",
       "      <td>1</td>\n",
       "      <td>Los Angeles</td>\n",
       "      <td>city</td>\n",
       "      <td>CA</td>\n",
       "      <td>CA</td>\n",
       "      <td>Los Angeles-Long Beach-Anaheim, CA</td>\n",
       "      <td>Los Angeles County</td>\n",
       "      <td>966595.0</td>\n",
       "    </tr>\n",
       "    <tr>\n",
       "      <th>2022-09-30</th>\n",
       "      <td>39051</td>\n",
       "      <td>2</td>\n",
       "      <td>Houston</td>\n",
       "      <td>city</td>\n",
       "      <td>TX</td>\n",
       "      <td>TX</td>\n",
       "      <td>Houston-The Woodlands-Sugar Land, TX</td>\n",
       "      <td>Harris County</td>\n",
       "      <td>272639.0</td>\n",
       "    </tr>\n",
       "    <tr>\n",
       "      <th>2022-09-30</th>\n",
       "      <td>17426</td>\n",
       "      <td>3</td>\n",
       "      <td>Chicago</td>\n",
       "      <td>city</td>\n",
       "      <td>IL</td>\n",
       "      <td>IL</td>\n",
       "      <td>Chicago-Naperville-Elgin, IL-IN-WI</td>\n",
       "      <td>Cook County</td>\n",
       "      <td>315429.0</td>\n",
       "    </tr>\n",
       "  </tbody>\n",
       "</table>\n",
       "<p>1092 rows × 9 columns</p>\n",
       "</div>"
      ],
      "text/plain": [
       "            RegionID  SizeRank   RegionName RegionType StateName State  \\\n",
       "Date                                                                     \n",
       "2000-01-31      6181         0     New York       city        NY    NY   \n",
       "2000-01-31     12447         1  Los Angeles       city        CA    CA   \n",
       "2000-01-31     39051         2      Houston       city        TX    TX   \n",
       "2000-01-31     17426         3      Chicago       city        IL    IL   \n",
       "2000-02-29      6181         0     New York       city        NY    NY   \n",
       "...              ...       ...          ...        ...       ...   ...   \n",
       "2022-08-31     17426         3      Chicago       city        IL    IL   \n",
       "2022-09-30      6181         0     New York       city        NY    NY   \n",
       "2022-09-30     12447         1  Los Angeles       city        CA    CA   \n",
       "2022-09-30     39051         2      Houston       city        TX    TX   \n",
       "2022-09-30     17426         3      Chicago       city        IL    IL   \n",
       "\n",
       "                                            Metro          CountyName  \\\n",
       "Date                                                                    \n",
       "2000-01-31  New York-Newark-Jersey City, NY-NJ-PA       Queens County   \n",
       "2000-01-31     Los Angeles-Long Beach-Anaheim, CA  Los Angeles County   \n",
       "2000-01-31   Houston-The Woodlands-Sugar Land, TX       Harris County   \n",
       "2000-01-31     Chicago-Naperville-Elgin, IL-IN-WI         Cook County   \n",
       "2000-02-29  New York-Newark-Jersey City, NY-NJ-PA       Queens County   \n",
       "...                                           ...                 ...   \n",
       "2022-08-31     Chicago-Naperville-Elgin, IL-IN-WI         Cook County   \n",
       "2022-09-30  New York-Newark-Jersey City, NY-NJ-PA       Queens County   \n",
       "2022-09-30     Los Angeles-Long Beach-Anaheim, CA  Los Angeles County   \n",
       "2022-09-30   Houston-The Woodlands-Sugar Land, TX       Harris County   \n",
       "2022-09-30     Chicago-Naperville-Elgin, IL-IN-WI         Cook County   \n",
       "\n",
       "            HomeValue  \n",
       "Date                   \n",
       "2000-01-31   253690.0  \n",
       "2000-01-31   234181.0  \n",
       "2000-01-31   109068.0  \n",
       "2000-01-31   166139.0  \n",
       "2000-02-29   255517.0  \n",
       "...               ...  \n",
       "2022-08-31   315587.0  \n",
       "2022-09-30   781622.0  \n",
       "2022-09-30   966595.0  \n",
       "2022-09-30   272639.0  \n",
       "2022-09-30   315429.0  \n",
       "\n",
       "[1092 rows x 9 columns]"
      ]
     },
     "execution_count": 241,
     "metadata": {},
     "output_type": "execute_result"
    }
   ],
   "source": [
    "## Set Date as index\n",
    "long_df = long_df.set_index('Date')\n",
    "long_df"
   ]
  },
  {
   "cell_type": "code",
   "execution_count": 242,
   "id": "abe48619",
   "metadata": {},
   "outputs": [
    {
     "data": {
      "text/plain": [
       "DatetimeIndex(['2000-01-31', '2000-01-31', '2000-01-31', '2000-01-31',\n",
       "               '2000-02-29', '2000-02-29', '2000-02-29', '2000-02-29',\n",
       "               '2000-03-31', '2000-03-31',\n",
       "               ...\n",
       "               '2022-07-31', '2022-07-31', '2022-08-31', '2022-08-31',\n",
       "               '2022-08-31', '2022-08-31', '2022-09-30', '2022-09-30',\n",
       "               '2022-09-30', '2022-09-30'],\n",
       "              dtype='datetime64[ns]', name='Date', length=1092, freq=None)"
      ]
     },
     "execution_count": 242,
     "metadata": {},
     "output_type": "execute_result"
    }
   ],
   "source": [
    "long_df.index"
   ]
  },
  {
   "cell_type": "code",
   "execution_count": 243,
   "id": "1e2d1381",
   "metadata": {},
   "outputs": [
    {
     "data": {
      "text/plain": [
       "RegionID      0\n",
       "SizeRank      0\n",
       "RegionName    0\n",
       "RegionType    0\n",
       "StateName     0\n",
       "State         0\n",
       "Metro         0\n",
       "CountyName    0\n",
       "HomeValue     5\n",
       "dtype: int64"
      ]
     },
     "execution_count": 243,
     "metadata": {},
     "output_type": "execute_result"
    }
   ],
   "source": [
    "#checking for missing values\n",
    "long_df.isna().sum()"
   ]
  },
  {
   "cell_type": "code",
   "execution_count": 245,
   "id": "56a1b951",
   "metadata": {},
   "outputs": [],
   "source": [
    "# imputing missing values using interpolate\n",
    "long_df['HomeValue'] = long_df['HomeValue'].interpolate()"
   ]
  },
  {
   "cell_type": "code",
   "execution_count": 246,
   "id": "7e5d851d",
   "metadata": {},
   "outputs": [
    {
     "data": {
      "text/plain": [
       "RegionID      0\n",
       "SizeRank      0\n",
       "RegionName    0\n",
       "RegionType    0\n",
       "StateName     0\n",
       "State         0\n",
       "Metro         0\n",
       "CountyName    0\n",
       "HomeValue     0\n",
       "dtype: int64"
      ]
     },
     "execution_count": 246,
     "metadata": {},
     "output_type": "execute_result"
    }
   ],
   "source": [
    "# double checking for missing values\n",
    "long_df.isna().sum()"
   ]
  },
  {
   "cell_type": "markdown",
   "id": "2bf991ab",
   "metadata": {},
   "source": [
    "### Resample the dataframe as monthly frequency, grouped by City."
   ]
  },
  {
   "cell_type": "code",
   "execution_count": 247,
   "id": "c93d93da",
   "metadata": {},
   "outputs": [
    {
     "data": {
      "text/html": [
       "<div>\n",
       "<style scoped>\n",
       "    .dataframe tbody tr th:only-of-type {\n",
       "        vertical-align: middle;\n",
       "    }\n",
       "\n",
       "    .dataframe tbody tr th {\n",
       "        vertical-align: top;\n",
       "    }\n",
       "\n",
       "    .dataframe thead th {\n",
       "        text-align: right;\n",
       "    }\n",
       "</style>\n",
       "<table border=\"1\" class=\"dataframe\">\n",
       "  <thead>\n",
       "    <tr style=\"text-align: right;\">\n",
       "      <th></th>\n",
       "      <th></th>\n",
       "      <th>RegionID</th>\n",
       "      <th>SizeRank</th>\n",
       "      <th>HomeValue</th>\n",
       "    </tr>\n",
       "    <tr>\n",
       "      <th>RegionName</th>\n",
       "      <th>Date</th>\n",
       "      <th></th>\n",
       "      <th></th>\n",
       "      <th></th>\n",
       "    </tr>\n",
       "  </thead>\n",
       "  <tbody>\n",
       "    <tr>\n",
       "      <th rowspan=\"5\" valign=\"top\">Chicago</th>\n",
       "      <th>2000-01-31</th>\n",
       "      <td>17426</td>\n",
       "      <td>3</td>\n",
       "      <td>166139.0</td>\n",
       "    </tr>\n",
       "    <tr>\n",
       "      <th>2000-02-29</th>\n",
       "      <td>17426</td>\n",
       "      <td>3</td>\n",
       "      <td>166536.0</td>\n",
       "    </tr>\n",
       "    <tr>\n",
       "      <th>2000-03-31</th>\n",
       "      <td>17426</td>\n",
       "      <td>3</td>\n",
       "      <td>167368.0</td>\n",
       "    </tr>\n",
       "    <tr>\n",
       "      <th>2000-04-30</th>\n",
       "      <td>17426</td>\n",
       "      <td>3</td>\n",
       "      <td>168826.0</td>\n",
       "    </tr>\n",
       "    <tr>\n",
       "      <th>2000-05-31</th>\n",
       "      <td>17426</td>\n",
       "      <td>3</td>\n",
       "      <td>170499.0</td>\n",
       "    </tr>\n",
       "    <tr>\n",
       "      <th>...</th>\n",
       "      <th>...</th>\n",
       "      <td>...</td>\n",
       "      <td>...</td>\n",
       "      <td>...</td>\n",
       "    </tr>\n",
       "    <tr>\n",
       "      <th rowspan=\"5\" valign=\"top\">New York</th>\n",
       "      <th>2022-05-31</th>\n",
       "      <td>6181</td>\n",
       "      <td>0</td>\n",
       "      <td>768797.0</td>\n",
       "    </tr>\n",
       "    <tr>\n",
       "      <th>2022-06-30</th>\n",
       "      <td>6181</td>\n",
       "      <td>0</td>\n",
       "      <td>773944.0</td>\n",
       "    </tr>\n",
       "    <tr>\n",
       "      <th>2022-07-31</th>\n",
       "      <td>6181</td>\n",
       "      <td>0</td>\n",
       "      <td>777692.0</td>\n",
       "    </tr>\n",
       "    <tr>\n",
       "      <th>2022-08-31</th>\n",
       "      <td>6181</td>\n",
       "      <td>0</td>\n",
       "      <td>779960.0</td>\n",
       "    </tr>\n",
       "    <tr>\n",
       "      <th>2022-09-30</th>\n",
       "      <td>6181</td>\n",
       "      <td>0</td>\n",
       "      <td>781622.0</td>\n",
       "    </tr>\n",
       "  </tbody>\n",
       "</table>\n",
       "<p>1092 rows × 3 columns</p>\n",
       "</div>"
      ],
      "text/plain": [
       "                       RegionID  SizeRank  HomeValue\n",
       "RegionName Date                                     \n",
       "Chicago    2000-01-31     17426         3   166139.0\n",
       "           2000-02-29     17426         3   166536.0\n",
       "           2000-03-31     17426         3   167368.0\n",
       "           2000-04-30     17426         3   168826.0\n",
       "           2000-05-31     17426         3   170499.0\n",
       "...                         ...       ...        ...\n",
       "New York   2022-05-31      6181         0   768797.0\n",
       "           2022-06-30      6181         0   773944.0\n",
       "           2022-07-31      6181         0   777692.0\n",
       "           2022-08-31      6181         0   779960.0\n",
       "           2022-09-30      6181         0   781622.0\n",
       "\n",
       "[1092 rows x 3 columns]"
      ]
     },
     "execution_count": 247,
     "metadata": {},
     "output_type": "execute_result"
    }
   ],
   "source": [
    "# Aggregate by currency and resample as Monthly\n",
    "\n",
    "df_ts = long_df.groupby('RegionName').resample('M').sum(numeric_only = True)\n",
    "df_ts\n",
    "\n",
    "# check\n",
    "df_ts\n",
    "\n",
    "#checking time series data\n",
    "#type(df_ts)"
   ]
  },
  {
   "cell_type": "code",
   "execution_count": 248,
   "id": "1f9e9eb6",
   "metadata": {},
   "outputs": [
    {
     "data": {
      "text/html": [
       "<div>\n",
       "<style scoped>\n",
       "    .dataframe tbody tr th:only-of-type {\n",
       "        vertical-align: middle;\n",
       "    }\n",
       "\n",
       "    .dataframe tbody tr th {\n",
       "        vertical-align: top;\n",
       "    }\n",
       "\n",
       "    .dataframe thead th {\n",
       "        text-align: right;\n",
       "    }\n",
       "</style>\n",
       "<table border=\"1\" class=\"dataframe\">\n",
       "  <thead>\n",
       "    <tr style=\"text-align: right;\">\n",
       "      <th></th>\n",
       "      <th></th>\n",
       "      <th>HomeValue</th>\n",
       "    </tr>\n",
       "    <tr>\n",
       "      <th>RegionName</th>\n",
       "      <th>Date</th>\n",
       "      <th></th>\n",
       "    </tr>\n",
       "  </thead>\n",
       "  <tbody>\n",
       "    <tr>\n",
       "      <th rowspan=\"5\" valign=\"top\">Chicago</th>\n",
       "      <th>2000-01-31</th>\n",
       "      <td>166139.0</td>\n",
       "    </tr>\n",
       "    <tr>\n",
       "      <th>2000-02-29</th>\n",
       "      <td>166536.0</td>\n",
       "    </tr>\n",
       "    <tr>\n",
       "      <th>2000-03-31</th>\n",
       "      <td>167368.0</td>\n",
       "    </tr>\n",
       "    <tr>\n",
       "      <th>2000-04-30</th>\n",
       "      <td>168826.0</td>\n",
       "    </tr>\n",
       "    <tr>\n",
       "      <th>2000-05-31</th>\n",
       "      <td>170499.0</td>\n",
       "    </tr>\n",
       "    <tr>\n",
       "      <th>...</th>\n",
       "      <th>...</th>\n",
       "      <td>...</td>\n",
       "    </tr>\n",
       "    <tr>\n",
       "      <th rowspan=\"5\" valign=\"top\">New York</th>\n",
       "      <th>2022-05-31</th>\n",
       "      <td>768797.0</td>\n",
       "    </tr>\n",
       "    <tr>\n",
       "      <th>2022-06-30</th>\n",
       "      <td>773944.0</td>\n",
       "    </tr>\n",
       "    <tr>\n",
       "      <th>2022-07-31</th>\n",
       "      <td>777692.0</td>\n",
       "    </tr>\n",
       "    <tr>\n",
       "      <th>2022-08-31</th>\n",
       "      <td>779960.0</td>\n",
       "    </tr>\n",
       "    <tr>\n",
       "      <th>2022-09-30</th>\n",
       "      <td>781622.0</td>\n",
       "    </tr>\n",
       "  </tbody>\n",
       "</table>\n",
       "<p>1092 rows × 1 columns</p>\n",
       "</div>"
      ],
      "text/plain": [
       "                       HomeValue\n",
       "RegionName Date                 \n",
       "Chicago    2000-01-31   166139.0\n",
       "           2000-02-29   166536.0\n",
       "           2000-03-31   167368.0\n",
       "           2000-04-30   168826.0\n",
       "           2000-05-31   170499.0\n",
       "...                          ...\n",
       "New York   2022-05-31   768797.0\n",
       "           2022-06-30   773944.0\n",
       "           2022-07-31   777692.0\n",
       "           2022-08-31   779960.0\n",
       "           2022-09-30   781622.0\n",
       "\n",
       "[1092 rows x 1 columns]"
      ]
     },
     "execution_count": 248,
     "metadata": {},
     "output_type": "execute_result"
    }
   ],
   "source": [
    "# drop unnecessary columns 'RegionID' and 'SizeRank'\n",
    "df_ts = df_ts.drop(columns = ['RegionID', 'SizeRank'])\n",
    "\n",
    "# check\n",
    "df_ts"
   ]
  },
  {
   "cell_type": "markdown",
   "id": "377df692",
   "metadata": {},
   "source": [
    "## Using unstack() for Plotting"
   ]
  },
  {
   "cell_type": "code",
   "execution_count": 249,
   "id": "f8ecb82c",
   "metadata": {},
   "outputs": [],
   "source": [
    "import matplotlib.dates as mdates\n",
    "import matplotlib.ticker as mticks"
   ]
  },
  {
   "cell_type": "code",
   "execution_count": 250,
   "id": "47b38820",
   "metadata": {},
   "outputs": [
    {
     "data": {
      "text/html": [
       "<div>\n",
       "<style scoped>\n",
       "    .dataframe tbody tr th:only-of-type {\n",
       "        vertical-align: middle;\n",
       "    }\n",
       "\n",
       "    .dataframe tbody tr th {\n",
       "        vertical-align: top;\n",
       "    }\n",
       "\n",
       "    .dataframe thead tr th {\n",
       "        text-align: left;\n",
       "    }\n",
       "\n",
       "    .dataframe thead tr:last-of-type th {\n",
       "        text-align: right;\n",
       "    }\n",
       "</style>\n",
       "<table border=\"1\" class=\"dataframe\">\n",
       "  <thead>\n",
       "    <tr>\n",
       "      <th></th>\n",
       "      <th colspan=\"4\" halign=\"left\">HomeValue</th>\n",
       "    </tr>\n",
       "    <tr>\n",
       "      <th>RegionName</th>\n",
       "      <th>Chicago</th>\n",
       "      <th>Houston</th>\n",
       "      <th>Los Angeles</th>\n",
       "      <th>New York</th>\n",
       "    </tr>\n",
       "    <tr>\n",
       "      <th>Date</th>\n",
       "      <th></th>\n",
       "      <th></th>\n",
       "      <th></th>\n",
       "      <th></th>\n",
       "    </tr>\n",
       "  </thead>\n",
       "  <tbody>\n",
       "    <tr>\n",
       "      <th>2000-01-31</th>\n",
       "      <td>166139.0</td>\n",
       "      <td>109068.0</td>\n",
       "      <td>234181.0</td>\n",
       "      <td>253690.0</td>\n",
       "    </tr>\n",
       "    <tr>\n",
       "      <th>2000-02-29</th>\n",
       "      <td>166536.0</td>\n",
       "      <td>109079.0</td>\n",
       "      <td>234401.0</td>\n",
       "      <td>255517.0</td>\n",
       "    </tr>\n",
       "    <tr>\n",
       "      <th>2000-03-31</th>\n",
       "      <td>167368.0</td>\n",
       "      <td>108878.0</td>\n",
       "      <td>235513.0</td>\n",
       "      <td>257207.0</td>\n",
       "    </tr>\n",
       "    <tr>\n",
       "      <th>2000-04-30</th>\n",
       "      <td>168826.0</td>\n",
       "      <td>108881.0</td>\n",
       "      <td>237589.0</td>\n",
       "      <td>260310.0</td>\n",
       "    </tr>\n",
       "    <tr>\n",
       "      <th>2000-05-31</th>\n",
       "      <td>170499.0</td>\n",
       "      <td>108834.0</td>\n",
       "      <td>240113.0</td>\n",
       "      <td>263204.0</td>\n",
       "    </tr>\n",
       "    <tr>\n",
       "      <th>...</th>\n",
       "      <td>...</td>\n",
       "      <td>...</td>\n",
       "      <td>...</td>\n",
       "      <td>...</td>\n",
       "    </tr>\n",
       "    <tr>\n",
       "      <th>2022-05-31</th>\n",
       "      <td>312487.0</td>\n",
       "      <td>265558.0</td>\n",
       "      <td>990391.0</td>\n",
       "      <td>768797.0</td>\n",
       "    </tr>\n",
       "    <tr>\n",
       "      <th>2022-06-30</th>\n",
       "      <td>314663.0</td>\n",
       "      <td>268901.0</td>\n",
       "      <td>992337.0</td>\n",
       "      <td>773944.0</td>\n",
       "    </tr>\n",
       "    <tr>\n",
       "      <th>2022-07-31</th>\n",
       "      <td>315910.0</td>\n",
       "      <td>271059.0</td>\n",
       "      <td>992630.0</td>\n",
       "      <td>777692.0</td>\n",
       "    </tr>\n",
       "    <tr>\n",
       "      <th>2022-08-31</th>\n",
       "      <td>315587.0</td>\n",
       "      <td>272400.0</td>\n",
       "      <td>978196.0</td>\n",
       "      <td>779960.0</td>\n",
       "    </tr>\n",
       "    <tr>\n",
       "      <th>2022-09-30</th>\n",
       "      <td>315429.0</td>\n",
       "      <td>272639.0</td>\n",
       "      <td>966595.0</td>\n",
       "      <td>781622.0</td>\n",
       "    </tr>\n",
       "  </tbody>\n",
       "</table>\n",
       "<p>273 rows × 4 columns</p>\n",
       "</div>"
      ],
      "text/plain": [
       "           HomeValue                                \n",
       "RegionName   Chicago   Houston Los Angeles  New York\n",
       "Date                                                \n",
       "2000-01-31  166139.0  109068.0    234181.0  253690.0\n",
       "2000-02-29  166536.0  109079.0    234401.0  255517.0\n",
       "2000-03-31  167368.0  108878.0    235513.0  257207.0\n",
       "2000-04-30  168826.0  108881.0    237589.0  260310.0\n",
       "2000-05-31  170499.0  108834.0    240113.0  263204.0\n",
       "...              ...       ...         ...       ...\n",
       "2022-05-31  312487.0  265558.0    990391.0  768797.0\n",
       "2022-06-30  314663.0  268901.0    992337.0  773944.0\n",
       "2022-07-31  315910.0  271059.0    992630.0  777692.0\n",
       "2022-08-31  315587.0  272400.0    978196.0  779960.0\n",
       "2022-09-30  315429.0  272639.0    966595.0  781622.0\n",
       "\n",
       "[273 rows x 4 columns]"
      ]
     },
     "execution_count": 250,
     "metadata": {},
     "output_type": "execute_result"
    }
   ],
   "source": [
    "df_unstacked = df_ts.unstack(0)\n",
    "df_unstacked"
   ]
  },
  {
   "cell_type": "code",
   "execution_count": 251,
   "id": "74829c03",
   "metadata": {},
   "outputs": [
    {
     "data": {
      "text/plain": [
       "           RegionName \n",
       "HomeValue  Chicago        0\n",
       "           Houston        0\n",
       "           Los Angeles    0\n",
       "           New York       0\n",
       "dtype: int64"
      ]
     },
     "execution_count": 251,
     "metadata": {},
     "output_type": "execute_result"
    }
   ],
   "source": [
    "#checking for missing values for reassurance\n",
    "df_unstacked.isna().sum()"
   ]
  },
  {
   "cell_type": "code",
   "execution_count": 252,
   "id": "f1338273",
   "metadata": {},
   "outputs": [],
   "source": [
    "def thousands(x,pos):\n",
    "    \"\"\"function for use wth matplotlib FuncFormatter -  formats money in thousands\"\"\"\n",
    "    new_x = x/1_000\n",
    "    return f\"{new_x:,.0f}K\"\n",
    "# Create the formatters\n",
    "\n",
    "fmt_thous = mticks.FuncFormatter(thousands)"
   ]
  },
  {
   "cell_type": "code",
   "execution_count": 254,
   "id": "56083dc4",
   "metadata": {
    "scrolled": false
   },
   "outputs": [
    {
     "data": {
      "text/plain": [
       "<matplotlib.legend.Legend at 0x2d4e52693a0>"
      ]
     },
     "execution_count": 254,
     "metadata": {},
     "output_type": "execute_result"
    },
    {
     "data": {
      "image/png": "[encoded data removed]",
      "text/plain": [
       "<Figure size 1200x300 with 1 Axes>"
      ]
     },
     "metadata": {},
     "output_type": "display_data"
    }
   ],
   "source": [
    "## Create our plot and save the ax\n",
    "\n",
    "\n",
    "#ax = df_unstacked.plot()\n",
    "\n",
    "ax = df_unstacked['HomeValue'].plot()\n",
    "\n",
    "plt.rcParams['figure.figsize'] = (12,3)\n",
    "\n",
    "# ax = crypto_unstacked.plot()\n",
    "ax.set(ylabel=\"Home Value\", title='Zillow Homes')\n",
    "\n",
    "\n",
    "\n",
    "# set y-axis major formatter\n",
    "ax.yaxis.set_major_formatter(fmt_thous)\n",
    "\n",
    "#add legend\n",
    "\n",
    "ax.legend(title = 'City')"
   ]
  },
  {
   "cell_type": "markdown",
   "id": "b452daaf",
   "metadata": {},
   "source": [
    "## Which City had the highest Typical Home Value at the end of 2008? Which had the least?\n",
    "   * Hint: You can use the unstacked dataframe or use pd.IndexSlice with the multiindex. "
   ]
  },
  {
   "cell_type": "code",
   "execution_count": 255,
   "id": "4591f2e8",
   "metadata": {},
   "outputs": [
    {
     "data": {
      "text/html": [
       "<div>\n",
       "<style scoped>\n",
       "    .dataframe tbody tr th:only-of-type {\n",
       "        vertical-align: middle;\n",
       "    }\n",
       "\n",
       "    .dataframe tbody tr th {\n",
       "        vertical-align: top;\n",
       "    }\n",
       "\n",
       "    .dataframe thead th {\n",
       "        text-align: right;\n",
       "    }\n",
       "</style>\n",
       "<table border=\"1\" class=\"dataframe\">\n",
       "  <thead>\n",
       "    <tr style=\"text-align: right;\">\n",
       "      <th></th>\n",
       "      <th></th>\n",
       "      <th>HomeValue</th>\n",
       "    </tr>\n",
       "    <tr>\n",
       "      <th>RegionName</th>\n",
       "      <th>Date</th>\n",
       "      <th></th>\n",
       "    </tr>\n",
       "  </thead>\n",
       "  <tbody>\n",
       "    <tr>\n",
       "      <th>Chicago</th>\n",
       "      <th>2008-12-31</th>\n",
       "      <td>265306.0</td>\n",
       "    </tr>\n",
       "    <tr>\n",
       "      <th>Houston</th>\n",
       "      <th>2008-12-31</th>\n",
       "      <td>131283.0</td>\n",
       "    </tr>\n",
       "    <tr>\n",
       "      <th>Los Angeles</th>\n",
       "      <th>2008-12-31</th>\n",
       "      <td>469294.0</td>\n",
       "    </tr>\n",
       "    <tr>\n",
       "      <th>New York</th>\n",
       "      <th>2008-12-31</th>\n",
       "      <td>510309.0</td>\n",
       "    </tr>\n",
       "  </tbody>\n",
       "</table>\n",
       "</div>"
      ],
      "text/plain": [
       "                        HomeValue\n",
       "RegionName  Date                 \n",
       "Chicago     2008-12-31   265306.0\n",
       "Houston     2008-12-31   131283.0\n",
       "Los Angeles 2008-12-31   469294.0\n",
       "New York    2008-12-31   510309.0"
      ]
     },
     "execution_count": 255,
     "metadata": {},
     "output_type": "execute_result"
    }
   ],
   "source": [
    "#df_sliced = long_df.loc[pd.IndexSlice[:,'Value', 'RegionName'],:]\n",
    "\n",
    "dec_hv = df_ts.loc[pd.IndexSlice[:,'2008-12'],:]\n",
    "dec_hv"
   ]
  },
  {
   "cell_type": "code",
   "execution_count": 256,
   "id": "0deaa6a0",
   "metadata": {
    "scrolled": true
   },
   "outputs": [
    {
     "data": {
      "text/plain": [
       "HomeValue    (New York, 2008-12-31 00:00:00)\n",
       "dtype: object"
      ]
     },
     "execution_count": 256,
     "metadata": {},
     "output_type": "execute_result"
    }
   ],
   "source": [
    "# figure out highest value\n",
    "dec2008 = dec_hv.idxmax()\n",
    "dec2008"
   ]
  },
  {
   "cell_type": "code",
   "execution_count": 257,
   "id": "04701432",
   "metadata": {},
   "outputs": [
    {
     "data": {
      "text/plain": [
       "'New York'"
      ]
     },
     "execution_count": 257,
     "metadata": {},
     "output_type": "execute_result"
    }
   ],
   "source": [
    "# grab city of max\n",
    "city = df_ts.loc[dec2008].index[0][0]\n",
    "city"
   ]
  },
  {
   "cell_type": "code",
   "execution_count": 262,
   "id": "abd871c0",
   "metadata": {},
   "outputs": [
    {
     "data": {
      "text/plain": [
       "510309.0"
      ]
     },
     "execution_count": 262,
     "metadata": {},
     "output_type": "execute_result"
    }
   ],
   "source": [
    "# grab value of max\n",
    "max_val = df_ts.loc[pd.IndexSlice[city,'2008-12-31'],'HomeValue']\n",
    "max_val"
   ]
  },
  {
   "cell_type": "code",
   "execution_count": 263,
   "id": "83f6d0a1",
   "metadata": {},
   "outputs": [
    {
     "name": "stdout",
     "output_type": "stream",
     "text": [
      "New York had the highest typical home value at the end of 2008, with a typical home value of $510,309.\n"
     ]
    }
   ],
   "source": [
    "# print statement to question\n",
    "print(f\"{city} had the highest typical home value at the end of \\\n",
    "2008, with a typical home value of ${max_val:,.0f}.\")"
   ]
  },
  {
   "cell_type": "code",
   "execution_count": 264,
   "id": "5577d47c",
   "metadata": {},
   "outputs": [
    {
     "data": {
      "text/plain": [
       "HomeValue    (Houston, 2008-12-31 00:00:00)\n",
       "dtype: object"
      ]
     },
     "execution_count": 264,
     "metadata": {},
     "output_type": "execute_result"
    }
   ],
   "source": [
    "# figure out lowest value\n",
    "declow = dec_hv.idxmin()\n",
    "declow"
   ]
  },
  {
   "cell_type": "code",
   "execution_count": 265,
   "id": "b5d1b3cb",
   "metadata": {},
   "outputs": [
    {
     "data": {
      "text/plain": [
       "'Houston'"
      ]
     },
     "execution_count": 265,
     "metadata": {},
     "output_type": "execute_result"
    }
   ],
   "source": [
    "# grab city of min\n",
    "citylow = df_ts.loc[declow].index[0][0]\n",
    "citylow"
   ]
  },
  {
   "cell_type": "code",
   "execution_count": 267,
   "id": "6de46081",
   "metadata": {},
   "outputs": [
    {
     "data": {
      "text/plain": [
       "131283.0"
      ]
     },
     "execution_count": 267,
     "metadata": {},
     "output_type": "execute_result"
    }
   ],
   "source": [
    "# grab value of min\n",
    "min_val = df_ts.loc[pd.IndexSlice[citylow,'2008-12-31'],'HomeValue']\n",
    "min_val"
   ]
  },
  {
   "cell_type": "markdown",
   "id": "edc76ebb",
   "metadata": {},
   "source": [
    "## Answer"
   ]
  },
  {
   "cell_type": "code",
   "execution_count": 268,
   "id": "f4c7a65a",
   "metadata": {},
   "outputs": [
    {
     "name": "stdout",
     "output_type": "stream",
     "text": [
      "Houston had the lowest typical home value at the end of 2008, with a typical home value of $131,283.\n"
     ]
    }
   ],
   "source": [
    "# print statement to question\n",
    "print(f\"{citylow} had the lowest typical home value at the end of \\\n",
    "2008, with a typical home value of ${min_val:,.0f}.\")"
   ]
  },
  {
   "cell_type": "markdown",
   "id": "545d5299",
   "metadata": {},
   "source": [
    "## How much did the home values change from November 2008 to December 2008 (in dollars)?\n",
    "* Hint: you can use .diff() to calculate the change in values"
   ]
  },
  {
   "cell_type": "code",
   "execution_count": 286,
   "id": "8a0a03ac",
   "metadata": {},
   "outputs": [
    {
     "data": {
      "text/html": [
       "<div>\n",
       "<style scoped>\n",
       "    .dataframe tbody tr th:only-of-type {\n",
       "        vertical-align: middle;\n",
       "    }\n",
       "\n",
       "    .dataframe tbody tr th {\n",
       "        vertical-align: top;\n",
       "    }\n",
       "\n",
       "    .dataframe thead th {\n",
       "        text-align: right;\n",
       "    }\n",
       "</style>\n",
       "<table border=\"1\" class=\"dataframe\">\n",
       "  <thead>\n",
       "    <tr style=\"text-align: right;\">\n",
       "      <th></th>\n",
       "      <th></th>\n",
       "      <th>HomeValue</th>\n",
       "    </tr>\n",
       "    <tr>\n",
       "      <th>RegionName</th>\n",
       "      <th>Date</th>\n",
       "      <th></th>\n",
       "    </tr>\n",
       "  </thead>\n",
       "  <tbody>\n",
       "    <tr>\n",
       "      <th>Chicago</th>\n",
       "      <th>2008-11-30</th>\n",
       "      <td>271059.0</td>\n",
       "    </tr>\n",
       "    <tr>\n",
       "      <th>Houston</th>\n",
       "      <th>2008-11-30</th>\n",
       "      <td>132247.0</td>\n",
       "    </tr>\n",
       "    <tr>\n",
       "      <th>Los Angeles</th>\n",
       "      <th>2008-11-30</th>\n",
       "      <td>481905.0</td>\n",
       "    </tr>\n",
       "    <tr>\n",
       "      <th>New York</th>\n",
       "      <th>2008-11-30</th>\n",
       "      <td>514767.0</td>\n",
       "    </tr>\n",
       "  </tbody>\n",
       "</table>\n",
       "</div>"
      ],
      "text/plain": [
       "                        HomeValue\n",
       "RegionName  Date                 \n",
       "Chicago     2008-11-30   271059.0\n",
       "Houston     2008-11-30   132247.0\n",
       "Los Angeles 2008-11-30   481905.0\n",
       "New York    2008-11-30   514767.0"
      ]
     },
     "execution_count": 286,
     "metadata": {},
     "output_type": "execute_result"
    }
   ],
   "source": [
    "#slicing out the month for comparison\n",
    "nov_hv = df_ts.loc[pd.IndexSlice[:, '2008-11'],:]\n",
    "nov_hv"
   ]
  },
  {
   "cell_type": "code",
   "execution_count": 316,
   "id": "6e4e515e",
   "metadata": {},
   "outputs": [
    {
     "data": {
      "text/plain": [
       "1399978.0"
      ]
     },
     "execution_count": 316,
     "metadata": {},
     "output_type": "execute_result"
    }
   ],
   "source": [
    "# get the HomeValue sum for November\n",
    "nov2008 = nov_hv.sum()['HomeValue']\n",
    "nov2008"
   ]
  },
  {
   "cell_type": "code",
   "execution_count": 317,
   "id": "bd1e7698",
   "metadata": {},
   "outputs": [
    {
     "data": {
      "text/html": [
       "<div>\n",
       "<style scoped>\n",
       "    .dataframe tbody tr th:only-of-type {\n",
       "        vertical-align: middle;\n",
       "    }\n",
       "\n",
       "    .dataframe tbody tr th {\n",
       "        vertical-align: top;\n",
       "    }\n",
       "\n",
       "    .dataframe thead th {\n",
       "        text-align: right;\n",
       "    }\n",
       "</style>\n",
       "<table border=\"1\" class=\"dataframe\">\n",
       "  <thead>\n",
       "    <tr style=\"text-align: right;\">\n",
       "      <th></th>\n",
       "      <th></th>\n",
       "      <th>HomeValue</th>\n",
       "    </tr>\n",
       "    <tr>\n",
       "      <th>RegionName</th>\n",
       "      <th>Date</th>\n",
       "      <th></th>\n",
       "    </tr>\n",
       "  </thead>\n",
       "  <tbody>\n",
       "    <tr>\n",
       "      <th>Chicago</th>\n",
       "      <th>2008-12-31</th>\n",
       "      <td>265306.0</td>\n",
       "    </tr>\n",
       "    <tr>\n",
       "      <th>Houston</th>\n",
       "      <th>2008-12-31</th>\n",
       "      <td>131283.0</td>\n",
       "    </tr>\n",
       "    <tr>\n",
       "      <th>Los Angeles</th>\n",
       "      <th>2008-12-31</th>\n",
       "      <td>469294.0</td>\n",
       "    </tr>\n",
       "    <tr>\n",
       "      <th>New York</th>\n",
       "      <th>2008-12-31</th>\n",
       "      <td>510309.0</td>\n",
       "    </tr>\n",
       "  </tbody>\n",
       "</table>\n",
       "</div>"
      ],
      "text/plain": [
       "                        HomeValue\n",
       "RegionName  Date                 \n",
       "Chicago     2008-12-31   265306.0\n",
       "Houston     2008-12-31   131283.0\n",
       "Los Angeles 2008-12-31   469294.0\n",
       "New York    2008-12-31   510309.0"
      ]
     },
     "execution_count": 317,
     "metadata": {},
     "output_type": "execute_result"
    }
   ],
   "source": [
    "#slicing out the month for comparison\n",
    "dec_hv = df_ts.loc[pd.IndexSlice[:,'2008-12'],:]\n",
    "dec_hv"
   ]
  },
  {
   "cell_type": "code",
   "execution_count": 318,
   "id": "4160b248",
   "metadata": {},
   "outputs": [
    {
     "data": {
      "text/plain": [
       "1376192.0"
      ]
     },
     "execution_count": 318,
     "metadata": {},
     "output_type": "execute_result"
    }
   ],
   "source": [
    "# get the HomeValue sum for december\n",
    "dec2008 = dec_hv.sum()['HomeValue']\n",
    "dec2008"
   ]
  },
  {
   "cell_type": "code",
   "execution_count": 323,
   "id": "f6bffe09",
   "metadata": {},
   "outputs": [
    {
     "data": {
      "text/plain": [
       "HomeValue        NaN\n",
       "HomeValue    23786.0\n",
       "dtype: float64"
      ]
     },
     "execution_count": 323,
     "metadata": {},
     "output_type": "execute_result"
    }
   ],
   "source": [
    "co = pd.concat([dec_hv.sum(), nov_hv.sum()]).diff()\n",
    "co"
   ]
  },
  {
   "cell_type": "code",
   "execution_count": 326,
   "id": "fe8c3d12",
   "metadata": {},
   "outputs": [
    {
     "data": {
      "text/plain": [
       "23786.0"
      ]
     },
     "execution_count": 326,
     "metadata": {},
     "output_type": "execute_result"
    }
   ],
   "source": [
    "# getting is the difference between both months\n",
    "diff = nov2008 - dec2008\n",
    "diff"
   ]
  },
  {
   "cell_type": "markdown",
   "id": "30faa4a1",
   "metadata": {},
   "source": [
    "## Answer"
   ]
  },
  {
   "cell_type": "code",
   "execution_count": 328,
   "id": "3411b5f2",
   "metadata": {},
   "outputs": [
    {
     "name": "stdout",
     "output_type": "stream",
     "text": [
      " The difference in Home Values between November 2008 and December 2008 was $23,786.\n"
     ]
    }
   ],
   "source": [
    "# print statement to question\n",
    "print(f\" The difference in Home Values between November 2008 and December 2008 was ${diff:,.0f}.\") "
   ]
  }
 ],
 "metadata": {
  "kernelspec": {
   "display_name": "Python (dojo-env)",
   "language": "python",
   "name": "dojo-env"
  },
  "language_info": {
   "codemirror_mode": {
    "name": "ipython",
    "version": 3
   },
   "file_extension": ".py",
   "mimetype": "text/x-python",
   "name": "python",
   "nbconvert_exporter": "python",
   "pygments_lexer": "ipython3",
   "version": "3.9.15"
  },
  "toc": {
   "base_numbering": "",
   "nav_menu": {},
   "number_sections": false,
   "sideBar": false,
   "skip_h1_title": false,
   "title_cell": "Table of Contents",
   "title_sidebar": "Contents",
   "toc_cell": false,
   "toc_position": {},
   "toc_section_display": false,
   "toc_window_display": false
  }
 },
 "nbformat": 4,
 "nbformat_minor": 5
}
